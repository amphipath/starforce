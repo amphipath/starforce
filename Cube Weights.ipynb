{
 "cells": [
  {
   "cell_type": "code",
   "execution_count": 5,
   "metadata": {},
   "outputs": [],
   "source": [
    "import requests\n",
    "import pandas as pd\n",
    "from bs4 import BeautifulSoup\n",
    "from fractions import Fraction as frac\n",
    "from decimal import Decimal\n",
    "import regex as re\n",
    "import os\n",
    "from datetime import datetime"
   ]
  },
  {
   "cell_type": "code",
   "execution_count": 71,
   "metadata": {},
   "outputs": [
    {
     "data": {
      "text/plain": [
       "0                                       STR\n",
       "1                                       DEX\n",
       "2                                       INT\n",
       "3                                       LUK\n",
       "4                                    Max HP\n",
       "                       ...                 \n",
       "7151                               Max HP %\n",
       "7152                               Max MP %\n",
       "7153                                  DEF %\n",
       "7154                            All Stats %\n",
       "7155    HP Recovery % (on items and skills)\n",
       "Name: Stat, Length: 7156, dtype: object"
      ]
     },
     "execution_count": 71,
     "metadata": {},
     "output_type": "execute_result"
    }
   ],
   "source": [
    "col = df['Stat']\n",
    "col.map(lambda x: translation_map.get(re.sub('\\s','',x),x))"
   ]
  },
  {
   "cell_type": "code",
   "execution_count": 73,
   "metadata": {},
   "outputs": [
    {
     "name": "stdout",
     "output_type": "stream",
     "text": [
      "Equip\n",
      "Level Requirement\n"
     ]
    },
    {
     "ename": "TypeError",
     "evalue": "expected string or buffer",
     "output_type": "error",
     "traceback": [
      "\u001b[1;31m---------------------------------------------------------------------------\u001b[0m",
      "\u001b[1;31mTypeError\u001b[0m                                 Traceback (most recent call last)",
      "\u001b[1;32m<ipython-input-73-58931ce9ba58>\u001b[0m in \u001b[0;36m<module>\u001b[1;34m\u001b[0m\n\u001b[0;32m      7\u001b[0m \u001b[1;32mfor\u001b[0m \u001b[0mi\u001b[0m \u001b[1;32min\u001b[0m \u001b[0mdf\u001b[0m\u001b[1;33m.\u001b[0m\u001b[0mcolumns\u001b[0m\u001b[1;33m:\u001b[0m\u001b[1;33m\u001b[0m\u001b[1;33m\u001b[0m\u001b[0m\n\u001b[0;32m      8\u001b[0m     \u001b[0mprint\u001b[0m\u001b[1;33m(\u001b[0m\u001b[0mi\u001b[0m\u001b[1;33m)\u001b[0m\u001b[1;33m\u001b[0m\u001b[1;33m\u001b[0m\u001b[0m\n\u001b[1;32m----> 9\u001b[1;33m     \u001b[0mdf2\u001b[0m\u001b[1;33m[\u001b[0m\u001b[0mi\u001b[0m\u001b[1;33m]\u001b[0m \u001b[1;33m=\u001b[0m \u001b[0mdf\u001b[0m\u001b[1;33m[\u001b[0m\u001b[0mi\u001b[0m\u001b[1;33m]\u001b[0m\u001b[1;33m.\u001b[0m\u001b[0mmap\u001b[0m\u001b[1;33m(\u001b[0m\u001b[1;32mlambda\u001b[0m \u001b[0mx\u001b[0m\u001b[1;33m:\u001b[0m \u001b[0mtranslation_map\u001b[0m\u001b[1;33m.\u001b[0m\u001b[0mget\u001b[0m\u001b[1;33m(\u001b[0m\u001b[0mre\u001b[0m\u001b[1;33m.\u001b[0m\u001b[0msub\u001b[0m\u001b[1;33m(\u001b[0m\u001b[1;34m'\\s'\u001b[0m\u001b[1;33m,\u001b[0m\u001b[1;34m''\u001b[0m\u001b[1;33m,\u001b[0m\u001b[0mx\u001b[0m\u001b[1;33m)\u001b[0m\u001b[1;33m,\u001b[0m\u001b[0mx\u001b[0m\u001b[1;33m)\u001b[0m\u001b[1;33m)\u001b[0m\u001b[1;33m\u001b[0m\u001b[1;33m\u001b[0m\u001b[0m\n\u001b[0m\u001b[0;32m     10\u001b[0m \u001b[1;32mreturn\u001b[0m \u001b[0mdf2\u001b[0m\u001b[1;33m\u001b[0m\u001b[1;33m\u001b[0m\u001b[0m\n",
      "\u001b[1;32mC:\\ProgramData\\Anaconda3\\lib\\site-packages\\pandas\\core\\series.py\u001b[0m in \u001b[0;36mmap\u001b[1;34m(self, arg, na_action)\u001b[0m\n\u001b[0;32m   3628\u001b[0m         \u001b[0mdtype\u001b[0m\u001b[1;33m:\u001b[0m \u001b[0mobject\u001b[0m\u001b[1;33m\u001b[0m\u001b[1;33m\u001b[0m\u001b[0m\n\u001b[0;32m   3629\u001b[0m         \"\"\"\n\u001b[1;32m-> 3630\u001b[1;33m         \u001b[0mnew_values\u001b[0m \u001b[1;33m=\u001b[0m \u001b[0msuper\u001b[0m\u001b[1;33m(\u001b[0m\u001b[1;33m)\u001b[0m\u001b[1;33m.\u001b[0m\u001b[0m_map_values\u001b[0m\u001b[1;33m(\u001b[0m\u001b[0marg\u001b[0m\u001b[1;33m,\u001b[0m \u001b[0mna_action\u001b[0m\u001b[1;33m=\u001b[0m\u001b[0mna_action\u001b[0m\u001b[1;33m)\u001b[0m\u001b[1;33m\u001b[0m\u001b[1;33m\u001b[0m\u001b[0m\n\u001b[0m\u001b[0;32m   3631\u001b[0m         \u001b[1;32mreturn\u001b[0m \u001b[0mself\u001b[0m\u001b[1;33m.\u001b[0m\u001b[0m_constructor\u001b[0m\u001b[1;33m(\u001b[0m\u001b[0mnew_values\u001b[0m\u001b[1;33m,\u001b[0m \u001b[0mindex\u001b[0m\u001b[1;33m=\u001b[0m\u001b[0mself\u001b[0m\u001b[1;33m.\u001b[0m\u001b[0mindex\u001b[0m\u001b[1;33m)\u001b[0m\u001b[1;33m.\u001b[0m\u001b[0m__finalize__\u001b[0m\u001b[1;33m(\u001b[0m\u001b[0mself\u001b[0m\u001b[1;33m)\u001b[0m\u001b[1;33m\u001b[0m\u001b[1;33m\u001b[0m\u001b[0m\n\u001b[0;32m   3632\u001b[0m \u001b[1;33m\u001b[0m\u001b[0m\n",
      "\u001b[1;32mC:\\ProgramData\\Anaconda3\\lib\\site-packages\\pandas\\core\\base.py\u001b[0m in \u001b[0;36m_map_values\u001b[1;34m(self, mapper, na_action)\u001b[0m\n\u001b[0;32m   1143\u001b[0m \u001b[1;33m\u001b[0m\u001b[0m\n\u001b[0;32m   1144\u001b[0m         \u001b[1;31m# mapper is a function\u001b[0m\u001b[1;33m\u001b[0m\u001b[1;33m\u001b[0m\u001b[1;33m\u001b[0m\u001b[0m\n\u001b[1;32m-> 1145\u001b[1;33m         \u001b[0mnew_values\u001b[0m \u001b[1;33m=\u001b[0m \u001b[0mmap_f\u001b[0m\u001b[1;33m(\u001b[0m\u001b[0mvalues\u001b[0m\u001b[1;33m,\u001b[0m \u001b[0mmapper\u001b[0m\u001b[1;33m)\u001b[0m\u001b[1;33m\u001b[0m\u001b[1;33m\u001b[0m\u001b[0m\n\u001b[0m\u001b[0;32m   1146\u001b[0m \u001b[1;33m\u001b[0m\u001b[0m\n\u001b[0;32m   1147\u001b[0m         \u001b[1;32mreturn\u001b[0m \u001b[0mnew_values\u001b[0m\u001b[1;33m\u001b[0m\u001b[1;33m\u001b[0m\u001b[0m\n",
      "\u001b[1;32mpandas\\_libs\\lib.pyx\u001b[0m in \u001b[0;36mpandas._libs.lib.map_infer\u001b[1;34m()\u001b[0m\n",
      "\u001b[1;32m<ipython-input-73-58931ce9ba58>\u001b[0m in \u001b[0;36m<lambda>\u001b[1;34m(x)\u001b[0m\n\u001b[0;32m      7\u001b[0m \u001b[1;32mfor\u001b[0m \u001b[0mi\u001b[0m \u001b[1;32min\u001b[0m \u001b[0mdf\u001b[0m\u001b[1;33m.\u001b[0m\u001b[0mcolumns\u001b[0m\u001b[1;33m:\u001b[0m\u001b[1;33m\u001b[0m\u001b[1;33m\u001b[0m\u001b[0m\n\u001b[0;32m      8\u001b[0m     \u001b[0mprint\u001b[0m\u001b[1;33m(\u001b[0m\u001b[0mi\u001b[0m\u001b[1;33m)\u001b[0m\u001b[1;33m\u001b[0m\u001b[1;33m\u001b[0m\u001b[0m\n\u001b[1;32m----> 9\u001b[1;33m     \u001b[0mdf2\u001b[0m\u001b[1;33m[\u001b[0m\u001b[0mi\u001b[0m\u001b[1;33m]\u001b[0m \u001b[1;33m=\u001b[0m \u001b[0mdf\u001b[0m\u001b[1;33m[\u001b[0m\u001b[0mi\u001b[0m\u001b[1;33m]\u001b[0m\u001b[1;33m.\u001b[0m\u001b[0mmap\u001b[0m\u001b[1;33m(\u001b[0m\u001b[1;32mlambda\u001b[0m \u001b[0mx\u001b[0m\u001b[1;33m:\u001b[0m \u001b[0mtranslation_map\u001b[0m\u001b[1;33m.\u001b[0m\u001b[0mget\u001b[0m\u001b[1;33m(\u001b[0m\u001b[0mre\u001b[0m\u001b[1;33m.\u001b[0m\u001b[0msub\u001b[0m\u001b[1;33m(\u001b[0m\u001b[1;34m'\\s'\u001b[0m\u001b[1;33m,\u001b[0m\u001b[1;34m''\u001b[0m\u001b[1;33m,\u001b[0m\u001b[0mx\u001b[0m\u001b[1;33m)\u001b[0m\u001b[1;33m,\u001b[0m\u001b[0mx\u001b[0m\u001b[1;33m)\u001b[0m\u001b[1;33m)\u001b[0m\u001b[1;33m\u001b[0m\u001b[1;33m\u001b[0m\u001b[0m\n\u001b[0m\u001b[0;32m     10\u001b[0m \u001b[1;32mreturn\u001b[0m \u001b[0mdf2\u001b[0m\u001b[1;33m\u001b[0m\u001b[1;33m\u001b[0m\u001b[0m\n",
      "\u001b[1;32mC:\\ProgramData\\Anaconda3\\lib\\site-packages\\regex\\regex.py\u001b[0m in \u001b[0;36msub\u001b[1;34m(pattern, repl, string, count, flags, pos, endpos, concurrent, timeout, ignore_unused, **kwargs)\u001b[0m\n\u001b[0;32m    273\u001b[0m     \u001b[0mbackslash\u001b[0m \u001b[0mescapes\u001b[0m \u001b[1;32min\u001b[0m \u001b[0mit\u001b[0m \u001b[0mare\u001b[0m \u001b[0mprocessed\u001b[0m\u001b[1;33m;\u001b[0m \u001b[1;32mif\u001b[0m \u001b[0ma\u001b[0m \u001b[0mcallable\u001b[0m\u001b[1;33m,\u001b[0m \u001b[0mit\u001b[0m\u001b[0;31m'\u001b[0m\u001b[0ms\u001b[0m \u001b[0mpassed\u001b[0m \u001b[0mthe\u001b[0m \u001b[0mmatch\u001b[0m\u001b[1;33m\u001b[0m\u001b[1;33m\u001b[0m\u001b[0m\n\u001b[0;32m    274\u001b[0m     object and must return a replacement string to be used.\"\"\"\n\u001b[1;32m--> 275\u001b[1;33m     return _compile(pattern, flags, ignore_unused, kwargs).sub(repl, string,\n\u001b[0m\u001b[0;32m    276\u001b[0m       count, pos, endpos, concurrent, timeout)\n\u001b[0;32m    277\u001b[0m \u001b[1;33m\u001b[0m\u001b[0m\n",
      "\u001b[1;31mTypeError\u001b[0m: expected string or buffer"
     ]
    }
   ],
   "source": [
    "dictcopy = dictionary.copy()\n",
    "dictcopy['kr'] = dictcopy['kr'].apply(lambda x: re.sub(\"\\s\",\"\",x))\n",
    "translation_map = dictcopy.set_index('kr')['en'].to_dict()\n",
    "translation_map\n",
    "df = masterlist\n",
    "df2 = df.copy()\n",
    "for i in df.columns:\n",
    "    print(i)\n",
    "    df2[i] = df[i].map(lambda x: translation_map.get(re.sub('\\s','',x),x))\n",
    "return df2\n"
   ]
  },
  {
   "cell_type": "code",
   "execution_count": 7,
   "metadata": {},
   "outputs": [],
   "source": [
    "## backing up current weights, do only if cube table has been updated\n",
    "\n",
    "# if 'weights_kr.csv' in os.listdir():\n",
    "#     os.rename(\"weights_kr.csv\", \"oldweights/weights_kr_\" + datetime.today().strftime('%Y%m%d') + \".csv\")\n",
    "    \n",
    "# if 'weights_en.csv' in os.listdir():\n",
    "#     os.rename(\"weights_en.csv\", \"oldweights/weights_en_\" + datetime.today().strftime('%Y%m%d') + \".csv\")"
   ]
  },
  {
   "cell_type": "code",
   "execution_count": 74,
   "metadata": {},
   "outputs": [],
   "source": [
    "def process_df(df,first=True,firstweights=None,primeprob=None):\n",
    "    split = df.iloc[:,0].str.split(':',expand=True)\n",
    "    split.columns = ['Stat','Value']\n",
    "    notcooldowns = split.Stat.apply(lambda x: \"\".join(x.split())) != '모든스킬의재사용대기시간'\n",
    "    percentlines = split.Value.str.contains('%',na=False) & notcooldowns\n",
    "    split.Stat.loc[percentlines] = split.Stat.loc[percentlines] + \"%\"\n",
    "    split.Value = split.Value.str.extract('([0-9]+)').astype('int',errors='ignore')\n",
    "    split.fillna({'Value':1},inplace=True)\n",
    "    split.Stat = split.Stat.str.strip()\n",
    "    probs = df.iloc[:,1].apply(lambda x: float(x.strip('%'))/100)\n",
    "    if first:\n",
    "        reduced = probs/min(probs)\n",
    "        weights = reduced.apply(lambda x: frac(Decimal(x)).limit_denominator(100) * max(reduced.apply(lambda x: frac(Decimal(x)).limit_denominator(100).denominator))).astype('int')\n",
    "    else:\n",
    "        weights = pd.Series(index=probs.index)\n",
    "        weights[-len(firstweights):] = firstweights\n",
    "        weights[:-len(firstweights)] = probs[:-len(firstweights)] / primeprob * sum(firstweights)\n",
    "        weights = weights.apply(lambda x: frac(Decimal(x)).limit_denominator(20) * max(weights.apply(lambda x: frac(Decimal(x)).limit_denominator(20).denominator)))\n",
    "    split['Weight'] = weights\n",
    "    return split\n",
    "\n",
    "dictionary = pd.read_excel('translations.xlsx')\n",
    "\n",
    "def translate(df,fromlang='kr',tolang='en'):\n",
    "    dictcopy = dictionary.copy()\n",
    "    dictcopy[fromlang] = dictcopy[fromlang].apply(lambda x: re.sub(\"\\s\",\"\",x))\n",
    "    translation_map = dictcopy.set_index(fromlang)[tolang].to_dict()\n",
    "    df2 = df.copy()\n",
    "    for i in df.columns:\n",
    "        df2[i] = df[i].map(lambda x: translation_map.get(re.sub(\"\\s\",\"\",x),x) if isinstance(x,str) else x)\n",
    "    return df2\n",
    "\n"
   ]
  },
  {
   "cell_type": "code",
   "execution_count": 45,
   "metadata": {},
   "outputs": [],
   "source": [
    "def get_cube_weights(url):\n",
    "    html = requests.get(url).content\n",
    "    df_list = pd.read_html(html, match='STR')\n",
    "    soup = BeautifulSoup(html, 'html.parser')\n",
    "    table_properties = soup.find_all('div',{'class': 'cube_option'})\n",
    "    cube_df = []\n",
    "    for i in range(0,len(df_list)):\n",
    "        # fucking nexon added a row under the headers to the addi cube page that just says \"potential\" and \"probability\". WHY\n",
    "        if df_list[i].iloc[0,1] == '확률':\n",
    "            df_list[i] = df_list[i].iloc[1:,:]\n",
    "        metadata = re.findall('<span>(.+)</span>',str(table_properties[i]))\n",
    "        if metadata[0] == '레어':\n",
    "            no_rare_lines = len(df_list[i].iloc[:,0:2].dropna())\n",
    "            normal_lines = df_list[i].iloc[:-no_rare_lines,2:4].dropna()\n",
    "            minidf = process_df(normal_lines)\n",
    "            minidf['Grade'] = '노멀'\n",
    "            minidf['Equip'] = metadata[1]\n",
    "            minidf['Level Requirement'] = int(re.findall('([0-9]+)',metadata[2])[0])\n",
    "            minidf = minidf[['Equip','Level Requirement','Grade','Stat','Value','Weight']]\n",
    "            cube_df.append(minidf)\n",
    "        primelines = df_list[i].iloc[:,0:2].dropna()\n",
    "        minidf = process_df(primelines)\n",
    "        minidf['Grade'] = metadata[0]\n",
    "        minidf['Equip'] = metadata[1]\n",
    "        minidf['Level Requirement'] = int(re.findall('([0-9]+)',metadata[2])[0])\n",
    "        minidf = minidf[['Equip','Level Requirement','Grade','Stat','Value','Weight']]\n",
    "        cube_df.append(minidf)\n",
    "\n",
    "    alldf = pd.concat(cube_df,ignore_index=True)\n",
    "    return alldf"
   ]
  },
  {
   "cell_type": "code",
   "execution_count": 75,
   "metadata": {},
   "outputs": [],
   "source": [
    "cubedict = {'Red':'https://maplestory.nexon.com/Guide/OtherProbability/cube/red',\n",
    "           'Black': 'https://maplestory.nexon.com/Guide/OtherProbability/cube/black',\n",
    "           'Additional': 'https://maplestory.nexon.com/Guide/OtherProbability/cube/addi',\n",
    "           'Suspicious': 'https://maplestory.nexon.com/Guide/OtherProbability/cube/strange',\n",
    "           'Master Craftsman': 'https://maplestory.nexon.com/Guide/OtherProbability/cube/master',\n",
    "           'Meister': 'https://maplestory.nexon.com/Guide/OtherProbability/cube/artisan'}\n",
    "df = []\n",
    "for cube,url in cubedict.items():\n",
    "    cubeweights = get_cube_weights(url)\n",
    "    cubeweights['Cube'] = cube\n",
    "    df.append(cubeweights)\n",
    "\n",
    "masterlist = pd.concat(df,ignore_index=True)\n",
    "\n",
    "masterlist_en = translate(masterlist)\n",
    "\n"
   ]
  },
  {
   "cell_type": "code",
   "execution_count": 76,
   "metadata": {},
   "outputs": [],
   "source": [
    "masterlist.to_csv('weights_kr.csv',index=False)\n",
    "\n",
    "masterlist_en.to_csv('weights_en.csv',index=False)"
   ]
  },
  {
   "cell_type": "code",
   "execution_count": 49,
   "metadata": {},
   "outputs": [
    {
     "data": {
      "text/plain": [
       "array(['STR', 'DEX', 'INT', 'LUK', '최대 HP', '최대 MP', '공격력', '마력', 'STR %',\n",
       "       'DEX %', 'INT %', 'LUK %', '공격력 %', '마력 %', '크리티컬 확률 %', '데미지 %',\n",
       "       '올스탯', '공격 시 20% 확률로 240의 HP 회복', '공격 시 20% 확률로 120의 MP 회복',\n",
       "       '공격 시 20% 확률로 6레벨 중독효과 적용', '공격 시 10% 확률로 2레벨 기절효과 적용',\n",
       "       '공격 시 20% 확률로 2레벨 슬로우효과 적용', '공격 시 20% 확률로 3레벨 암흑효과 적용',\n",
       "       '공격 시 10% 확률로 2레벨 빙결효과 적용', '공격 시 10% 확률로 2레벨 봉인효과 적용',\n",
       "       '몬스터 방어율 무시 %', '최대 HP %', '최대 MP %', '올스탯 %',\n",
       "       '공격 시 20% 확률로 360의 HP 회복', '공격 시 20% 확률로 180의 MP 회복',\n",
       "       '보스 몬스터 공격 시 데미지 %', '캐릭터 기준 10레벨 당 공격력', '캐릭터 기준 10레벨 당 마력',\n",
       "       '공격 시 20% 확률로 200의 HP 회복', '공격 시 20% 확률로 110의 MP 회복',\n",
       "       '공격 시 20% 확률로 5레벨 중독효과 적용', '공격 시 20% 확률로 2레벨 암흑효과 적용',\n",
       "       '공격 시 20% 확률로 300의 HP 회복', '공격 시 20% 확률로 165의 MP 회복',\n",
       "       '피격 시 5% 확률로 데미지의 20% 무시', '피격 시 5% 확률로 데미지의 40% 무시',\n",
       "       '피격 시 10% 확률로 데미지의 20% 무시', '피격 시 10% 확률로 데미지의 40% 무시', '방어력',\n",
       "       '방어력 %', 'HP 회복 아이템 및 회복 스킬 효율 %', '<쓸만한 미스틱 도어> 스킬 사용 가능',\n",
       "       '모든 스킬의 재사용 대기시간', '<쓸만한 어드밴스드 블레스> 스킬 사용 가능', '피격 후 무적시간',\n",
       "       '피격 시 2% 확률로 7초간 무적', '30% 확률로 받은 피해의 50%를 반사',\n",
       "       '30% 확률로 받은 피해의 70%를 반사', '피격 시 4% 확률로 7초간 무적',\n",
       "       '<쓸만한 하이퍼 바디> 스킬 사용 가능', '이동속도', '점프력', '<쓸만한 헤이스트> 스킬 사용 가능',\n",
       "       '<쓸만한 컴뱃 오더스> 스킬 사용 가능', '몬스터 처치 시 15% 확률로 95의 HP 회복',\n",
       "       '몬스터 처치 시 15% 확률로 95의 MP 회복', '캐릭터 기준 10레벨 당 STR',\n",
       "       '캐릭터 기준 10레벨 당 DEX', '캐릭터 기준 10레벨 당 INT', '캐릭터 기준 10레벨 당 LUK',\n",
       "       '<쓸만한 샤프 아이즈> 스킬 사용 가능', '크리티컬 데미지 %', '<쓸만한 윈드 부스터> 스킬 사용 가능',\n",
       "       '모든 스킬의 MP 소모 %', '메소 획득량 %', '아이템 드롭률 %', '공격 시 3% 확률로 53의 HP 회복',\n",
       "       '공격 시 3% 확률로 53의 MP 회복', '공격 시 15% 확률로 95의 HP 회복',\n",
       "       '공격 시 15% 확률로 95의 MP 회복', '공격 시 3% 확률로 47의 HP 회복',\n",
       "       '공격 시 3% 확률로 47의 MP 회복', '공격 시 15% 확률로 85의 HP 회복',\n",
       "       '공격 시 15% 확률로 85의 MP 회복', '공격 시 3% 확률로 32의 HP 회복',\n",
       "       '공격 시 3% 확률로 32의 MP 회복', '공격 시 10% 확률로 6레벨 중독효과 적용',\n",
       "       '공격 시 5% 확률로 2레벨 기절효과 적용', '공격 시 10% 확률로 2레벨 슬로우효과 적용',\n",
       "       '공격 시 10% 확률로 3레벨 암흑효과 적용', '공격 시 5% 확률로 2레벨 빙결효과 적용',\n",
       "       '공격 시 5% 확률로 2레벨 봉인효과 적용', '공격 시 3% 확률로 28의 HP 회복',\n",
       "       '공격 시 3% 확률로 28의 MP 회복', '공격 시 10% 확률로 5레벨 중독효과 적용',\n",
       "       '공격 시 10% 확률로 2레벨 암흑효과 적용', '피격 시 20% 확률로 21의 데미지 무시',\n",
       "       '피격 시 20% 확률로 32의 데미지 무시', '피격 시 30% 확률로 43의 데미지 무시',\n",
       "       '피격 시 20% 확률로 25의 데미지 무시', '피격 시 20% 확률로 38의 데미지 무시',\n",
       "       '피격 시 30% 확률로 51의 데미지 무시', '피격 시 10% 확률로 10초간 분노를 느낀다.',\n",
       "       '피격 시 10% 확률로 10초간 행복을 느낀다.', '피격 시 10% 확률로 10초간 사랑에 빠진다.',\n",
       "       '피격 시 10% 확률로 10초간 격노를 느낀다.', '피격 시 10% 확률로 10초간 감동을 느낀다.',\n",
       "       '몬스터 처치 시 15% 확률로 95의 HP  회복', '몬스터 처치 시 15% 확률로 95의 MP  회복',\n",
       "       '4초 당 24의 HP 회복', '4초 당 24의 MP 회복', '<쓸만한 미스틱 도어> 스킬 사용  가능',\n",
       "       '<쓸만한 하이퍼 바디> 스킬 사용  가능', '공격 시 1% 확률로 오토스틸', '공격 시 2% 확률로 오토스틸',\n",
       "       '<쓸만한 샤프 아이즈> 스킬 사용  가능', '공격 시 3% 확률로 오토스틸', '공격 시 5% 확률로 오토스틸',\n",
       "       '공격 시 7% 확률로 오토스틸'], dtype=object)"
      ]
     },
     "execution_count": 49,
     "metadata": {},
     "output_type": "execute_result"
    }
   ],
   "source": [
    "masterlist['Stat'].unique()"
   ]
  }
 ],
 "metadata": {
  "kernelspec": {
   "display_name": "Python 3",
   "language": "python",
   "name": "python3"
  },
  "language_info": {
   "codemirror_mode": {
    "name": "ipython",
    "version": 3
   },
   "file_extension": ".py",
   "mimetype": "text/x-python",
   "name": "python",
   "nbconvert_exporter": "python",
   "pygments_lexer": "ipython3",
   "version": "3.8.3"
  }
 },
 "nbformat": 4,
 "nbformat_minor": 4
}
