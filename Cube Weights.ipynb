{
 "cells": [
  {
   "cell_type": "code",
   "execution_count": 5,
   "metadata": {},
   "outputs": [],
   "source": [
    "import requests\n",
    "import pandas as pd\n",
    "from bs4 import BeautifulSoup\n",
    "from fractions import Fraction as frac\n",
    "from decimal import Decimal\n",
    "import regex as re"
   ]
  },
  {
   "cell_type": "code",
   "execution_count": 1,
   "metadata": {},
   "outputs": [],
   "source": [
    "url = 'https://maplestory.nexon.com/Guide/OtherProbability/cube/red'\n"
   ]
  },
  {
   "cell_type": "code",
   "execution_count": 3,
   "metadata": {},
   "outputs": [],
   "source": []
  },
  {
   "cell_type": "code",
   "execution_count": 2,
   "metadata": {},
   "outputs": [],
   "source": [
    "def process_df(df,first=True,firstweights=None,primeprob=None):\n",
    "    split = df.iloc[:,0].str.split(':',expand=True)\n",
    "    split.columns = ['Stat','Value']\n",
    "    split.Stat.loc[split.Value.str.contains('%',na=False) & (split.Stat != '모든  스킬의 재사용 대기시간 ')] = split.Stat.loc[split.Value.str.contains('%',na=False)] + \"%\"\n",
    "    split.Value = split.Value.str.extract('([0-9]+)').astype('int',errors='ignore')\n",
    "    split.fillna({'Value':1},inplace=True)\n",
    "    split.Stat = split.Stat.str.strip()\n",
    "    probs = df.iloc[:,1].apply(lambda x: float(x.strip('%'))/100)\n",
    "    if first:\n",
    "        reduced = probs/min(probs)\n",
    "        weights = reduced.apply(lambda x: frac(Decimal(x)).limit_denominator(100) * max(reduced.apply(lambda x: frac(Decimal(x)).limit_denominator(100).denominator))).astype('int')\n",
    "    else:\n",
    "        weights = pd.Series(index=probs.index)\n",
    "        weights[-len(firstweights):] = firstweights\n",
    "        weights[:-len(firstweights)] = probs[:-len(firstweights)] / primeprob * sum(firstweights)\n",
    "        weights = weights.apply(lambda x: frac(Decimal(x)).limit_denominator(20) * max(weights.apply(lambda x: frac(Decimal(x)).limit_denominator(20).denominator)))\n",
    "    split['Weight'] = weights\n",
    "    return split\n",
    "\n"
   ]
  },
  {
   "cell_type": "code",
   "execution_count": 3,
   "metadata": {},
   "outputs": [],
   "source": [
    "def get_cube_weights(url):\n",
    "    html = requests.get(url).content\n",
    "    df_list = pd.read_html(html, match='STR')\n",
    "    soup = BeautifulSoup(html, 'html.parser')\n",
    "    table_properties = soup.find_all('div',{'class': 'cube_option'})\n",
    "    cube_df = []\n",
    "    for i in range(0,len(df_list)):\n",
    "        metadata = re.findall('<span>(.+)</span>',str(table_properties[i]))\n",
    "        if metadata[0] == '레어':\n",
    "            no_rare_lines = len(df_list[i].iloc[:,0:2].dropna())\n",
    "            normal_lines = df_list[i].iloc[:-no_rare_lines,2:4].dropna()\n",
    "            minidf = process_df(normal_lines)\n",
    "            minidf['Grade'] = 'Normal'\n",
    "            minidf['Equip'] = metadata[1]\n",
    "            minidf['Level Requirement'] = int(re.findall('([0-9]+)',metadata[2])[0])\n",
    "            minidf = minidf[['Equip','Level Requirement','Grade','Stat','Value','Weight']]\n",
    "            cube_df.append(minidf)\n",
    "        primelines = df_list[i].iloc[:,0:2].dropna()\n",
    "        minidf = process_df(primelines)\n",
    "        minidf['Grade'] = metadata[0]\n",
    "        minidf['Equip'] = metadata[1]\n",
    "        minidf['Level Requirement'] = int(re.findall('([0-9]+)',metadata[2])[0])\n",
    "        minidf = minidf[['Equip','Level Requirement','Grade','Stat','Value','Weight']]\n",
    "        cube_df.append(minidf)\n",
    "\n",
    "    alldf = pd.concat(cube_df,ignore_index=True)\n",
    "    return alldf"
   ]
  },
  {
   "cell_type": "code",
   "execution_count": 6,
   "metadata": {},
   "outputs": [],
   "source": [
    "cubedict = {'Red':'https://maplestory.nexon.com/Guide/OtherProbability/cube/red',\n",
    "           'Black': 'https://maplestory.nexon.com/Guide/OtherProbability/cube/black',\n",
    "           'Additional': 'https://maplestory.nexon.com/Guide/OtherProbability/cube/addi'}\n",
    "df = []\n",
    "for cube,url in cubedict.items():\n",
    "    cubeweights = get_cube_weights(url)\n",
    "    cubeweights['Cube'] = cube\n",
    "    df.append(cubeweights)\n",
    "\n",
    "masterlist = pd.concat(df,ignore_index=True)\n",
    "masterlist.to_csv('weights_kr.csv',index=False)"
   ]
  },
  {
   "cell_type": "code",
   "execution_count": 8,
   "metadata": {},
   "outputs": [],
   "source": [
    "# koreancolumns = masterlist[['Equip','Grade','Stat']]\n",
    "# koreanwords = []\n",
    "# for i in koreancolumns.columns:\n",
    "#     unique = koreancolumns[i].unique()\n",
    "#     koreanwords += [x for x in unique]\n",
    "# with open('koreanwords.csv','w+') as f:\n",
    "#     for j in koreanwords:\n",
    "#         f.write('\"'+j+'\"\\n')\n",
    "\n",
    "dictionary = pd.read_excel('translations.xlsx')\n",
    "def translate(df,fromlang='kr',tolang='en'):\n",
    "    translation_map = dictionary.set_index(fromlang)[tolang].to_dict()\n",
    "    df2 = df.copy()\n",
    "    for i in df.columns:\n",
    "        df2[i] = df[i].map(lambda x: translation_map.get(x,x))\n",
    "    return df2\n",
    "\n",
    "translate(masterlist).to_csv('weights_en.csv',index=False)"
   ]
  },
  {
   "cell_type": "code",
   "execution_count": 7,
   "metadata": {},
   "outputs": [
    {
     "data": {
      "text/plain": [
       "array(['STR', 'DEX', 'INT', 'LUK', '최대 HP', '최대 MP', '공격력', '마력', 'STR %',\n",
       "       'DEX %', 'INT %', 'LUK %', '공격력 %', '마력 %', '크리티컬 확률 %', '데미지 %',\n",
       "       '올스탯', '공격 시 20% 확률로 240의 HP 회복', '공격 시 20% 확률로 120의 MP 회복',\n",
       "       '공격 시 20% 확률로 6레벨 중독효과 적용', '공격 시 10% 확률로 2레벨 기절효과 적용',\n",
       "       '공격 시 20% 확률로 2레벨 슬로우효과 적용', '공격 시 20% 확률로 3레벨 암흑효과 적용',\n",
       "       '공격 시 10% 확률로 2레벨 빙결효과 적용', '공격 시 10% 확률로 2레벨 봉인효과 적용',\n",
       "       '몬스터 방어율 무시 %', '최대 HP %', '최대 MP %', '올스탯 %',\n",
       "       '공격 시 20% 확률로 360의 HP 회복', '공격 시 20% 확률로 180의 MP 회복',\n",
       "       '보스 몬스터 공격 시 데미지 %', '캐릭터 기준 10레벨 당 공격력', '캐릭터 기준 10레벨 당 마력',\n",
       "       '공격 시 20% 확률로 200의 HP 회복', '공격 시 20% 확률로 110의 MP 회복',\n",
       "       '공격 시 20% 확률로 5레벨 중독효과 적용', '공격 시 20% 확률로 2레벨 암흑효과 적용',\n",
       "       '공격 시 20% 확률로 300의 HP 회복', '공격 시 20% 확률로 165의 MP 회복',\n",
       "       '피격 시 5% 확률로 데미지의 20% 무시', '피격 시 5% 확률로 데미지의 40% 무시',\n",
       "       '피격 시 10% 확률로 데미지의 20% 무시', '피격 시 10% 확률로 데미지의 40% 무시', '방어력',\n",
       "       '방어력 %', '모든  스킬레벨', 'HP 회복 아이템 및 회복 스킬 효율 %',\n",
       "       '<쓸만한 미스틱 도어> 스킬 사용  가능', '모든  스킬의 재사용 대기시간',\n",
       "       '<쓸만한 어드밴스드 블레스> 스킬  사용 가능', '피격 후 무적시간', '피격 시 2% 확률로 7초간 무적',\n",
       "       '30% 확률로 받은 피해의 50%를 반사', '30% 확률로 받은 피해의 70%를 반사', '모든 속성 내성 %',\n",
       "       '피격 시 4% 확률로 7초간 무적', '<쓸만한 하이퍼 바디> 스킬 사용  가능', '상태 이상 내성', '이동속도',\n",
       "       '점프력', '<쓸만한 헤이스트> 스킬 사용 가능', '<쓸만한 컴뱃 오더스> 스킬 사용  가능',\n",
       "       '몬스터 처치 시 15% 확률로 95의 HP 회복', '몬스터 처치 시 15% 확률로 95의 MP 회복',\n",
       "       '캐릭터 기준 10레벨 당 STR', '캐릭터 기준 10레벨 당 DEX', '캐릭터 기준 10레벨 당 INT',\n",
       "       '캐릭터 기준 10레벨 당 LUK', '<쓸만한 샤프 아이즈> 스킬 사용  가능', '크리티컬 데미지 %',\n",
       "       '<쓸만한 윈드 부스터> 스킬 사용  가능', '모든 스킬의 MP 소모 %', '메소 획득량 %',\n",
       "       '아이템 드롭률 %', '몬스터 처치 시 15% 확률로 95의 HP  회복',\n",
       "       '몬스터 처치 시 15% 확률로 95의 MP  회복', '공격 시 3% 확률로 53의 HP 회복',\n",
       "       '공격 시 3% 확률로 53의 MP 회복', '공격 시 15% 확률로 95의 HP 회복',\n",
       "       '공격 시 15% 확률로 95의 MP 회복', '공격 시 3% 확률로 47의 HP 회복',\n",
       "       '공격 시 3% 확률로 47의 MP 회복', '공격 시 15% 확률로 85의 HP 회복',\n",
       "       '공격 시 15% 확률로 85의 MP 회복'], dtype=object)"
      ]
     },
     "execution_count": 7,
     "metadata": {},
     "output_type": "execute_result"
    }
   ],
   "source": [
    "masterlist['Stat'].unique()"
   ]
  }
 ],
 "metadata": {
  "kernelspec": {
   "display_name": "Python 3",
   "language": "python",
   "name": "python3"
  },
  "language_info": {
   "codemirror_mode": {
    "name": "ipython",
    "version": 3
   },
   "file_extension": ".py",
   "mimetype": "text/x-python",
   "name": "python",
   "nbconvert_exporter": "python",
   "pygments_lexer": "ipython3",
   "version": "3.8.3"
  }
 },
 "nbformat": 4,
 "nbformat_minor": 4
}
